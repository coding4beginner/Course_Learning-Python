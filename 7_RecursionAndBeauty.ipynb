{
  "cells": [
    {
      "cell_type": "markdown",
      "metadata": {
        "collapsed": true
      },
      "source": [
        "# Introduction to Programming with Python\n",
        "\n",
        "# Unit 7: Recursion and the Beauty of Programming\n",
        "\n",
        "As we are coming towards the end of our module, let's focus on more difficult topics, while also exploring some more beautiful fractal figures."
      ]
    },
    {
      "cell_type": "markdown",
      "metadata": {},
      "source": [
        "## Recursion\n",
        "\n",
        "We have just discussed Fibonacci numbers, which are defined in the following way (if we number them starting from 0, as all programmers do):\n",
        "$$\n",
        "\\begin{array}{l}\n",
        "f_n = 1, 0\\le n\\le 1 \\\\\n",
        "f_n = f_{n-1} + f_{n-2}, \\quad n\\ge2\\\\\n",
        "\\end{array}\n",
        "$$\n",
        "\n",
        "We have used some clever trick to compute them, having two variables:"
      ]
    },
    {
      "cell_type": "code",
      "execution_count": 7,
      "metadata": {
        "trusted": true
      },
      "outputs": [
        {
          "data": {
            "text/plain": [
              "89"
            ]
          },
          "execution_count": 7,
          "metadata": {},
          "output_type": "execute_result"
        }
      ],
      "source": [
        "def fib(n):\n",
        "    c,p = 1,1\n",
        "    for _ in range(n):\n",
        "        c,p = c+p,c\n",
        "    return p\n",
        "\n",
        "fib(10)"
      ]
    },
    {
      "cell_type": "markdown",
      "metadata": {},
      "source": [
        "However, we may also define the same function in another way, very similar to the mathematical definition of Fibonacci number given above:"
      ]
    },
    {
      "cell_type": "code",
      "execution_count": 8,
      "metadata": {
        "trusted": true
      },
      "outputs": [
        {
          "data": {
            "text/plain": [
              "89"
            ]
          },
          "execution_count": 8,
          "metadata": {},
          "output_type": "execute_result"
        }
      ],
      "source": [
        "def fib(n):\n",
        "    if n<=1:\n",
        "        return 1\n",
        "    else:\n",
        "        return fib(n-1) + fib(n-2)\n",
        "    \n",
        "fib(10)"
      ]
    },
    {
      "cell_type": "markdown",
      "metadata": {},
      "source": [
        "You may be surprised: how is it possible to use the function `fib` inside its own definition? In face, such technique is called **recursion**, and it often used in programming. \n",
        "\n",
        "Let us consider the example of calculating `fib(3)`. Recursion works as follows:\n",
        "\n",
        "1. To calculate `fib(3)`, the function calls `fib(2)` and `fib(1)`\n",
        "2. When `fib(2)` is called, it calls `fib(1)` and `fib(0)`.\n",
        "3. Both of those calls `return 1` (because the argument `n` is less than 2)\n",
        "4. Thus `fib(2)` is computed as `1+1=2`\n",
        "5. When `fib(1)` is called in step 1, it also returns 1 (as in step 3)\n",
        "6. `fib(3)` is computed to be equal to `2+1=3`.\n",
        "\n",
        "We can actually add some `print` operators to the function to see how those calls are made:"
      ]
    },
    {
      "cell_type": "code",
      "execution_count": 9,
      "metadata": {
        "trusted": true
      },
      "outputs": [
        {
          "name": "stdout",
          "output_type": "stream",
          "text": [
            "Calling fib(3)\n",
            "Calling fib(2)\n",
            "Calling fib(1)\n",
            "fib(1) returns 1\n",
            "Calling fib(0)\n",
            "fib(0) returns 1\n",
            "fib(2) returns 2=1+1\n",
            "Calling fib(1)\n",
            "fib(1) returns 1\n",
            "fib(3) returns 3=2+1\n"
          ]
        },
        {
          "data": {
            "text/plain": [
              "3"
            ]
          },
          "execution_count": 9,
          "metadata": {},
          "output_type": "execute_result"
        }
      ],
      "source": [
        "def fib(n):\n",
        "    print(f'Calling fib({n})')\n",
        "    if n<=1:\n",
        "        print(f'fib({n}) returns 1')\n",
        "        return 1\n",
        "    else:\n",
        "        f1 = fib(n-1)\n",
        "        f2 = fib(n-2)\n",
        "        print(f'fib({n}) returns {f1+f2}={f1}+{f2}')\n",
        "        return f1+f2 \n",
        "    \n",
        "fib(3)"
      ]
    },
    {
      "cell_type": "markdown",
      "metadata": {},
      "source": [
        "You may notice that during those computations `fib(1)` is called twice. In fact, if you try to compute `fib` for any number larger than 20, you may notice significant delay - that is because number of calls to function `fib` increases very rapidly. For example, to compute `fib(16)` we would need to make aroung 65000 calls, while during our previous algorithm with a loop we need to repeat the loop only 16 times.\n",
        "\n",
        "This does not necessarily mean that recursion is bad. Sometimes it is not easy to program an algorithm without recursion, as we will see in the next example. However, if you can think of a non-recursive way to solve the problem - you should prefer it, because it is likely to be more effective. However, recursive algorithms often tend to be shorter and more beautiful."
      ]
    },
    {
      "cell_type": "markdown",
      "metadata": {},
      "source": [
        "## Koch Snowflake\n",
        "\n",
        "The best graphical example of recursion is a **[Koch Snowflake](https://en.wikipedia.org/wiki/Koch_snowflake)**, which looks like this:\n",
        "\n",
        "![Koch Snowflake](./images/KochFlake.PNG)\n",
        "Image [from Wikipedia](https://commons.wikimedia.org/w/index.php?curid=1898291), CC BY-SA 3.0\n",
        "\n",
        "This picture shows snowflakes of different *complexities*:\n",
        "\n",
        "* When complexity $n=0$ (first figure), to draw one side of the snowflake of size $x$ we just draw a straight line of length $x$\n",
        "* When complexity $n=1$ (second figure), we draw the side in the following manner:\n",
        "   - Draw the side of length $x\\over3$ and complexity $0$\n",
        "   - Turn $60^\\circ$ left\n",
        "   - Draw the side of length $x\\over3$ and complexity $0$\n",
        "   - Turn $120^\\circ$ right\n",
        "   - Draw the side of length $x\\over3$ and complexity $0$\n",
        "   - Turn $60^\\circ$ left\n",
        "* In a similar manner, for any other complexity $n>1$:\n",
        "   - Draw the side of length $x\\over3$ and complexity $n-1$\n",
        "   - Turn $60^\\circ$ left\n",
        "   - Draw the side of length $x\\over3$ and complexity $n-1$\n",
        "   - Turn $120^\\circ$ right\n",
        "   - Draw the side of length $x\\over3$ and complexity $n-1$\n",
        "   - Turn $60^\\circ$ left\n",
        "\n",
        "You probably recognized *recursion* in this algorithm:\n",
        "* For $n=0$ - we draw straight line. This is called **termination** of recursion, because we do not make a recursive call to the function\n",
        "* For $n>0$ - we follow the algorithm described above, which involves calling the same function with argument $n-1$\n",
        "\n",
        "The function to draw **Koch Curve** will look like this:"
      ]
    },
    {
      "cell_type": "code",
      "execution_count": 17,
      "metadata": {
        "trusted": true
      },
      "outputs": [
        {
          "data": {
            "image/png": "[encoded data removed]",
            "text/plain": [
              "<Figure size 432x288 with 1 Axes>"
            ]
          },
          "metadata": {
            "needs_background": "light"
          },
          "output_type": "display_data"
        }
      ],
      "source": [
        "import jturtle as turtle\n",
        "\n",
        "def koch_curve(n,x):\n",
        "    if n==0:\n",
        "        turtle.forward(x)\n",
        "    else:\n",
        "        koch_curve(n-1,x/3)\n",
        "        turtle.left(60)\n",
        "        koch_curve(n-1,x/3)\n",
        "        turtle.right(120)\n",
        "        koch_curve(n-1,x/3)\n",
        "        turtle.left(60)\n",
        "        koch_curve(n-1,x/3)\n",
        "\n",
        "turtle.right(90)\n",
        "koch_curve(2,100)\n",
        "turtle.done()"
      ]
    },
    {
      "cell_type": "markdown",
      "metadata": {},
      "source": [
        "Let's draw Koch curvers with different $n$-s:"
      ]
    },
    {
      "cell_type": "code",
      "execution_count": 18,
      "metadata": {
        "trusted": true
      },
      "outputs": [
        {
          "data": {
            "image/png": "[encoded data removed]",
            "text/plain": [
              "<Figure size 432x288 with 1 Axes>"
            ]
          },
          "metadata": {
            "needs_background": "light"
          },
          "output_type": "display_data"
        }
      ],
      "source": [
        "turtle.right(90)\n",
        "for n in range(4):\n",
        "    koch_curve(n,100)\n",
        "    turtle.penup()\n",
        "    turtle.forward(-100)\n",
        "    turtle.right(90)\n",
        "    turtle.forward(40)\n",
        "    turtle.left(90)\n",
        "    turtle.pendown()\n",
        "turtle.done()"
      ]
    },
    {
      "cell_type": "markdown",
      "metadata": {},
      "source": [
        "Finally, to produce Koch's Snowflake, we need to draw 3 Koch curves:"
      ]
    },
    {
      "cell_type": "code",
      "execution_count": 20,
      "metadata": {
        "trusted": true
      },
      "outputs": [
        {
          "data": {
            "image/png": "[encoded data removed]",
            "text/plain": [
              "<Figure size 432x288 with 1 Axes>"
            ]
          },
          "metadata": {
            "needs_background": "light"
          },
          "output_type": "display_data"
        }
      ],
      "source": [
        "def koch_snowflake(n,x):\n",
        "    for _ in range(3):\n",
        "        koch_curve(n,x)\n",
        "        turtle.right(120)\n",
        "\n",
        "koch_snowflake(3,100)\n",
        "turtle.done()"
      ]
    },
    {
      "cell_type": "markdown",
      "metadata": {},
      "source": [
        "## Minkowski Island\n",
        "\n",
        "A very similar figure to Koch Snowflake is called **Minkowski Island**, or **Quadratic Koch Curve**. The idea is similar, but instead of turning 60 degrees - we turn 90.\n",
        "\n",
        "![](../images/Quadratic_Koch_curve_type2_iterations.png)\n",
        "By <a title=\"User:Prokofiev\" href=\"//commons.wikimedia.org/wiki/User:Prokofiev\">Prokofiev</a> - <span class=\"int-own-work\" lang=\"en\">Own work</span>, <a title=\"Creative Commons Attribution-Share Alike 4.0\" href=\"https://creativecommons.org/licenses/by-sa/4.0\">CC BY-SA 4.0</a>, <a href=\"https://commons.wikimedia.org/w/index.php?curid=3194494\">Link</a>\n",
        "\n",
        "While writing this function, we will try to be creative and use loop to draw each part of the curve. The trick is to use the **list** of all angles that we need to turn in between, together with their direction (i.e. 90 will mean turn $90^\\circ$ left, 0 - do not turn at all, and -90 - turn $90^\\circ$ right)"
      ]
    },
    {
      "cell_type": "code",
      "execution_count": 25,
      "metadata": {
        "trusted": true
      },
      "outputs": [
        {
          "data": {
            "image/png": "[encoded data removed]",
            "text/plain": [
              "<Figure size 432x288 with 1 Axes>"
            ]
          },
          "metadata": {
            "needs_background": "light"
          },
          "output_type": "display_data"
        }
      ],
      "source": [
        "def minkowski(n,x):\n",
        "    if n==0:\n",
        "        turtle.forward(x)\n",
        "    else:\n",
        "        for t in [90,-90,-90,0,90,90,-90,0]:\n",
        "            minkowski(n-1,x/4)\n",
        "            turtle.left(t)\n",
        "            \n",
        "for _ in range(4):\n",
        "    minkowski(2,100)\n",
        "    turtle.left(90)\n",
        "turtle.done()"
      ]
    },
    {
      "cell_type": "markdown",
      "metadata": {},
      "source": [
        "## Flowers and Trees\n",
        "\n",
        "If you continue studying Programming or Computer Science, you will learn that an important data structure is **tree** - a collection of elements that have parent and child elements. For example, folders or directories in our computer form a tree.\n",
        "\n",
        "In our final example, we will draw something similar to a tree, and on the other hand similar to a dandelion or some umbrella-like plant. We will start with one branch, and then for each branch generate $n$ sub-branches, and so on. "
      ]
    },
    {
      "cell_type": "code",
      "execution_count": 31,
      "metadata": {
        "trusted": true
      },
      "outputs": [
        {
          "data": {
            "image/png": "[encoded data removed]",
            "text/plain": [
              "<Figure size 432x288 with 1 Axes>"
            ]
          },
          "metadata": {
            "needs_background": "light"
          },
          "output_type": "display_data"
        }
      ],
      "source": [
        "from random import randint\n",
        "def tree(n,b,x):\n",
        "    turtle.forward(x) # draw the branch\n",
        "    if n>0: # draw n sub-branches on top of it\n",
        "        for _ in range(b):\n",
        "            a = randint(-40,40)\n",
        "            turtle.left(a)\n",
        "            tree(n-1,b,x)\n",
        "            turtle.right(a)\n",
        "    turtle.forward(-x) # move back to the beginning of the branch\n",
        "\n",
        "tree(3,3,100)\n",
        "turtle.done()"
      ]
    },
    {
      "cell_type": "markdown",
      "metadata": {},
      "source": [
        "This code is very clever, and it might take you some time to figure out. The difficult thing here is to make turtle return to the original position each time the branch is drawn. So, at the top level, the logic of the function is the following:\n",
        "* Draw one branch by calling `forward(x)`\n",
        "* Optionally (if $n>0$), draw $b$ sub-branches. Here $b$ is the **branching factor**. \n",
        "* Move back to the starting position by calling `forward(-x)`.\n",
        "\n",
        "When drawing branched, we always assume that `tree` moves the turtle back to its original position before the drawing."
      ]
    },
    {
      "cell_type": "code",
      "execution_count": 33,
      "metadata": {
        "trusted": true
      },
      "outputs": [
        {
          "data": {
            "image/png": "[encoded data removed]",
            "text/plain": [
              "<Figure size 432x288 with 1 Axes>"
            ]
          },
          "metadata": {
            "needs_background": "light"
          },
          "output_type": "display_data"
        }
      ],
      "source": [
        "for _ in range(5):\n",
        "    tree(3,3,100)\n",
        "    turtle.right(90)\n",
        "    turtle.forward(120)\n",
        "    turtle.left(90)\n",
        "turtle.done()"
      ]
    },
    {
      "cell_type": "markdown",
      "metadata": {},
      "source": [
        "We have cosidered just a few examples of drawing trees, but there could be many more. For example, try to experiment with our `tree` function to produce different types of flora by doing one or more of the following:\n",
        "* Experiment with different branching factors\n",
        "* The line `a = randint(-40,40)` defines random angle for each branch. By changing the angles you can control the spread of branches, and also whether the tree would look *straight*, or falling to the left or right\n",
        "* Try to make branches shorter and longer as you go up towards the top of the tree. This can be achieved by multiplying `x` by some **growth factor**, which should be somewhat close to 1\n",
        "* You may pass angle boundaries and growth factor as parameters to play with them freely. Finally, produce a forest that combines different kinds of trees together. "
      ]
    },
    {
      "cell_type": "markdown",
      "metadata": {
        "trusted": true
      },
      "source": [
        "## The Beauty of Programming\n",
        "\n",
        "I hope you would agree with me, that in the examples above we have managed to draw pretty beautiful pictures! They are not only pleasant aesthetically, but they are beautiful in *mathematical* sense. Koch Snowflake and Minkowski Island are examples of **fractal structures**, which can be infinitely complex, i.e. if you draw such a figure for very large $n$, you would be able to zoom into it, and part of the figure would be similar to the original one. Ideally, such a fractal would be infinitely complex. However, we managed to write a simple and rather short program, which can produce arbitrary complex figures. I believe this shows the main beauty of programming -- with simple code you can program computer to perform many complex operations and achieve very complex results!\n",
        "\n",
        "## Where to go Next\n",
        "\n",
        "Of course, real programs are more complex than those we have seen in this course, and you are still to learn how to fight complexity in programming. However, Python is a very good starting point, because from here you can start exploring programming in many different directions:\n",
        "\n",
        "* **Web Programming** is about creating web sites. You can use Python and Django Framework to create web applications [see how](https://channel9.msdn.com/shows/Azure-Friday/Python-on-Azure-Part-1-Building-Django-apps-with-Visual-Studio-Code/?WT.mc_id=python-github-dmitryso)\n",
        "* You can do **Game Development** with Python, a good place to start would be [PyGame](https://www.pygame.org) library. And you can also run Python on small programmable consoles, like [PyBadge](https://learn.adafruit.com/adafruit-pybadge)\n",
        "<img src=\"./images/pybadge.jpg\" width=\"30%\"/><br/>\n",
        "Picture from [this project at hackday.io](https://hackaday.io/project/164929/gallery#692b286060e43ce2e9ae50b5c3b1b0c5)\n",
        "* **Data Science** is a branch of computer science which studies the ways you can extract knowledge from data. For example, having a large set of people's photographs and their corresponding age you can create a program that will **learn** how to determine person's age from a picture. This is closely related to another discipline, **Artificial Intelligence**. See [this example](http://aka.ms/facestudies) for how you can use information extracted from people's photographs to make interesting conclusions.\n",
        "* **Science Art** is another direction at the intersection of science and art. Python is a great language for science art, because it contains powerful libraries for image manipulation. See [this blog post](http://aka.ms/peopleblending) on how you can create your own cognitive portrait from photographs like this one:\n",
        "<img src=\"./images/VickieRotator.png\" width=\"30%\"/>\n",
        "\n",
        "And there are many more areas where Pyton can be used as a language! However, before diving right into one of those specific areas, I suggest that you learn a little bit more of core language features in our next course. \n",
        "\n",
        "I hope you enjoyed the course, and are curious to learn more! Good luck!"
      ]
    },
    {
      "cell_type": "code",
      "execution_count": null,
      "metadata": {
        "trusted": true
      },
      "outputs": [],
      "source": []
    }
  ],
  "metadata": {
    "kernelspec": {
      "display_name": "Python 3.6",
      "language": "python",
      "name": "python36"
    },
    "language_info": {
      "codemirror_mode": {
        "name": "ipython",
        "version": 3
      },
      "file_extension": ".py",
      "mimetype": "text/x-python",
      "name": "python",
      "nbconvert_exporter": "python",
      "pygments_lexer": "ipython3",
      "version": "3.6.6"
    }
  },
  "nbformat": 4,
  "nbformat_minor": 2
}
