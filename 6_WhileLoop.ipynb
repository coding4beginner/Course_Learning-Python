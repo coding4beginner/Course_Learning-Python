{
  "cells": [
    {
      "metadata": {
        "collapsed": true
      },
      "cell_type": "markdown",
      "source": [
        "# Introduction to Programming with Python\n",
        "\n",
        "# Unit 6: While Loop\n",
        "\n",
        "We ended the previous unit with an excercise to draw three polygons. Let's start with defining a function that will draw one polygon with specified number of sides `n` and length of each side `x`. To do it, we need to repeat drawing a side of length `x` `n` times, turning by a certain angle in between. Since we need to turn 360 degrees after drawing all sides, each individual angle would be $360/n$."
      ]
    },
    {
      "metadata": {
        "trusted": true
      },
      "cell_type": "code",
      "source": [
        "import jturtle as turtle\n",
        "\n",
        "def poly(n,x):\n",
        "    angle = 360/n\n",
        "    for _ in range(n):\n",
        "        turtle.forward(x)\n",
        "        turtle.right(angle)\n",
        "\n",
        "poly(6,100)\n",
        "turtle.done()"
      ],
      "execution_count": 2,
      "outputs": [
        {
          "output_type": "display_data",
          "data": {
            "image/png": "[encoded data removed]",
            "text/plain": "<Figure size 432x288 with 1 Axes>"
          },
          "metadata": {
            "needs_background": "light"
          }
        }
      ]
    },
    {
      "metadata": {},
      "cell_type": "markdown",
      "source": [
        "Now, to draw three polygons with $n=3$, $5$ and $7$, we need a loop iterating over those numbers. This can either be accomplished by specifying all numbers in a list (like in the example below), or using clever `range` expression `range(3,8,2)`, or by looping `i` over numbers 0,1,2 with `range(3)`, and then calculating `n=3+2*i`."
      ]
    },
    {
      "metadata": {
        "trusted": true
      },
      "cell_type": "code",
      "source": [
        "for i in [3,5,7]:\n",
        "    poly(i,500/i)\n",
        "    turtle.penup()\n",
        "    turtle.right(90)\n",
        "    turtle.forward(200)\n",
        "    turtle.left(90)\n",
        "    turtle.forward(20)\n",
        "    turtle.pendown()\n",
        "turtle.done()"
      ],
      "execution_count": 4,
      "outputs": [
        {
          "output_type": "display_data",
          "data": {
            "image/png": "[encoded data removed]",
            "text/plain": "<Figure size 432x288 with 1 Axes>"
          },
          "metadata": {
            "needs_background": "light"
          }
        }
      ]
    },
    {
      "metadata": {},
      "cell_type": "markdown",
      "source": [
        "Another trick that we do here is to decrease the size `x` as number of sides grows bigger. If we do not do it, each following $n$-gon will look  larger. You can experiment with the code above, putting constant size, or changing an expression on how it depends on $n$. \n",
        "\n",
        "By the way, we can create some nice graphics with `poly` function as well:"
      ]
    },
    {
      "metadata": {
        "trusted": true
      },
      "cell_type": "code",
      "source": [
        "for i in range(10):\n",
        "    poly(6,100)\n",
        "    turtle.right(36)\n",
        "turtle.done()"
      ],
      "execution_count": 7,
      "outputs": [
        {
          "output_type": "display_data",
          "data": {
            "image/png": "[encoded data removed]",
            "text/plain": "<Figure size 432x288 with 1 Axes>"
          },
          "metadata": {
            "needs_background": "light"
          }
        }
      ]
    },
    {
      "metadata": {},
      "cell_type": "markdown",
      "source": [
        "## While Loop\n",
        "\n",
        "The loop we have learnt about so far is called `for`-loop, and it is useful when we know in advance how many times we need to repeat the process. However, there are some cases when this number is not known. Suppose we want to generate random quadratic equation that has solutions, using our function `random_equation` defined previously. In this case we probably need to generate random coefficients, and if the equation does not have solutions - repeat this process again. This can be achieved using another loop: **while** loop.\n",
        "\n",
        "While loop looks like this:\n",
        "\n",
        "```python\n",
        "while condition:\n",
        "    action\n",
        "```\n",
        "\n",
        "The code is executed in the following way:\n",
        "1. `condition` is checked. If it is `False` - loop ends, execution continues from the code following the loop\n",
        "2. If `condition` was `True` - action is executed\n",
        "3. Evething repeats from step 1\n",
        "\n",
        "It is worth noticing that `condition` should probably change inside the loop, i.e. some variables that are used within condition should change. In our case, we will generate new equation coefficients inside the loop, and check if it has solutions in the loop condition.\n",
        "\n",
        "So, the code to generate \"good\" equation can look like this:"
      ]
    },
    {
      "metadata": {
        "trusted": true
      },
      "cell_type": "code",
      "source": [
        "from pycourse import random_equation,solve\n",
        "\n",
        "def random_good_equation():\n",
        "    a,b,c = random_equation()\n",
        "    while solve(a,b,c)!=None:\n",
        "        a,b,c = random_equation()\n",
        "    return a,b,c\n",
        "\n",
        "print(random_good_equation())"
      ],
      "execution_count": 8,
      "outputs": [
        {
          "output_type": "stream",
          "text": "(3, 0, 10)\n",
          "name": "stdout"
        }
      ]
    },
    {
      "metadata": {},
      "cell_type": "markdown",
      "source": [
        "In fact, there is more than one way to write `while`-loop in our case. The solution above has one small drawback - we need to write a call to `random_equation` twice. This can be avoided by using a variable that will contain the flag (`True`/`False` value) to indicate if the solution has been found:"
      ]
    },
    {
      "metadata": {
        "trusted": true
      },
      "cell_type": "code",
      "source": [
        "def random_good_equation():\n",
        "    solution_found = False\n",
        "    while not solution_found:\n",
        "        a,b,c = random_equation()\n",
        "        solution_found = (solve(a,b,c)!=None)\n",
        "    return a,b,c\n",
        "\n",
        "print(random_good_equation())"
      ],
      "execution_count": 10,
      "outputs": [
        {
          "output_type": "stream",
          "text": "(-1, -10, 12)\n",
          "name": "stdout"
        }
      ]
    },
    {
      "metadata": {
        "slideshow": {
          "slide_type": ""
        }
      },
      "cell_type": "markdown",
      "source": [
        "Notice how variable `solution_found` contains a true/false value, and how we can assign the result of comparison `solve(a,b,c)!=None` directly to this variable. Such true/false values are called **boolean values**, and it is one more type of values that Python can operate on (in addition to integers, floating point numbers and strings).\n",
        "\n",
        "Yet one more way to think about this task is to write a condition when the loop should end. This can be accomplished by using `break` keyword, which is used to leave the loop. In this case we will write the loop as an **endless loop**, and then specify the exit condition:"
      ]
    },
    {
      "metadata": {
        "trusted": true
      },
      "cell_type": "code",
      "source": [
        "def random_good_equation():\n",
        "    while True:\n",
        "        a,b,c = random_equation()\n",
        "        if solve(a,b,c)!=None:\n",
        "            break\n",
        "    return a,b,c\n",
        "\n",
        "print(random_good_equation())"
      ],
      "execution_count": 11,
      "outputs": [
        {
          "output_type": "stream",
          "text": "(-1, -7, -4)\n",
          "name": "stdout"
        }
      ]
    },
    {
      "metadata": {},
      "cell_type": "markdown",
      "source": [
        "## Some Numerology\n",
        "\n",
        "Let us consider one more example of using while loops, related to [numerology](https://en.wikipedia.org/wiki/Numerology) - a set of beliefs that numbers have some magical influence on our lives. Not implying that those beliefs are true, we will write a function that will help numerologists in one of their frequently used tasks: computing the number corresponding to some date. In order to do this, they often add up all individual digits of a number, until they get a single-digit number.\n",
        "\n",
        "First, let us write a function that adds up all digits in a number. Note, that given a number $n$ (say, 123) we can compute its last (right-most) digit by dividing it by 10 and taking the remainder (123 % 10 = 3). Also, we can drop right-most digits by dividing the number by 10, and taking the whole part (this operation, **integer division**, is denoted in Python by `//`, so 123//10 = 12).\n",
        "\n",
        "The function to add all digits will be implemented using while-loop, because we will add up all digits while there is still something to add. At some point, when dividing a number by 10, we will get 0 - and it will indicate the end of the loop:"
      ]
    },
    {
      "metadata": {
        "trusted": true
      },
      "cell_type": "code",
      "source": [
        "def sum_digits(x):\n",
        "    acc = 0\n",
        "    while x>0:\n",
        "        acc += x%10\n",
        "        x = x//10\n",
        "    return acc\n",
        "\n",
        "sum_digits(12345)"
      ],
      "execution_count": 12,
      "outputs": [
        {
          "output_type": "execute_result",
          "execution_count": 12,
          "data": {
            "text/plain": "15"
          },
          "metadata": {}
        }
      ]
    },
    {
      "metadata": {},
      "cell_type": "markdown",
      "source": [
        "However, numberologist will not stop at that, and to get the \"final\" number when would apply the same technique to the result, until it gets to one-digit number. We would need another while-loop to do that:"
      ]
    },
    {
      "metadata": {
        "trusted": true
      },
      "cell_type": "code",
      "source": [
        "def magic_number(x):\n",
        "    while x>10:\n",
        "        x = sum_digits(x)\n",
        "    return x\n",
        "\n",
        "magic_number(12345)"
      ],
      "execution_count": 13,
      "outputs": [
        {
          "output_type": "execute_result",
          "execution_count": 13,
          "data": {
            "text/plain": "6"
          },
          "metadata": {}
        }
      ]
    },
    {
      "metadata": {},
      "cell_type": "markdown",
      "source": [
        "Now we can compute the magic number corresponding to the current date. To do that, we will use `datetime` library:"
      ]
    },
    {
      "metadata": {
        "trusted": true
      },
      "cell_type": "code",
      "source": [
        "import datetime\n",
        "now = datetime.datetime.now()\n",
        "\n",
        "number_date = now.day*1000000+now.month*10000+now.year\n",
        "print(number_date, '->', magic_number(number_date))"
      ],
      "execution_count": 19,
      "outputs": [
        {
          "output_type": "stream",
          "text": "20022020 -> 8\n",
          "name": "stdout"
        }
      ]
    },
    {
      "metadata": {},
      "cell_type": "markdown",
      "source": [
        "## Fibonacci Numbers: For loop vs. While loop\n",
        "\n",
        "In mathematics, there is a beautiful sequence of numbers called **[Fibonacci numbers](https://en.wikipedia.org/wiki/Fibonacci_number)** - a sequence, that starts with two numbers 1, where each next elements is equal to the sum of two previous ones:\n",
        "$$\n",
        "\\begin{array}{l}\n",
        "f_0 = f_1 = 1 \\\\\n",
        "f_n = f_{n-1} + f_{n-2}, \\quad n>1 \\\\\n",
        "\\end{array}\n",
        "$$\n",
        "\n",
        "Let us compute first 20 numbers in Fibonacci sequence:"
      ]
    },
    {
      "metadata": {
        "trusted": true
      },
      "cell_type": "code",
      "source": [
        "c = p = 1\n",
        "for _ in range(20):\n",
        "    print(p, end=' ')\n",
        "    c,p = c+p, c"
      ],
      "execution_count": 3,
      "outputs": [
        {
          "output_type": "stream",
          "text": "1 1 2 3 5 8 13 21 34 55 89 144 233 377 610 987 1597 2584 4181 6765 ",
          "name": "stdout"
        }
      ]
    },
    {
      "metadata": {},
      "cell_type": "markdown",
      "source": [
        "In this algorithm, we use two variables - `c` to denote the *current* number, and `p` - the *previous* one. Initially both numbers are set to 1. During each iteration of the loop, we compute *next current* number as `c+p`, and assign current number `c` to `p`. Please note how we are doing the assignment in one line of code:\n",
        "```\n",
        "c,p = c+p, c\n",
        "```\n",
        "Writing the same code in two lines like that\n",
        "```\n",
        "c = c+p\n",
        "p = c\n",
        "```\n",
        "would be an error, because the value of `c` would change after first line is executed.\n",
        "\n",
        "In this example, we wanted to compute the known number of sequence elements, in our case 20. That is why it was convenient to use `for`-loop. Now suppose we want to compute the first Fibonacci number that exceeds 4000000. Because we do not know the number of iterations required, we can use `while` loop:"
      ]
    },
    {
      "metadata": {
        "trusted": true
      },
      "cell_type": "code",
      "source": [
        "c = p = 1\n",
        "while c<4000000:\n",
        "    c,p = c+p, c\n",
        "print(c)"
      ],
      "execution_count": 7,
      "outputs": [
        {
          "output_type": "stream",
          "text": "5702887\n",
          "name": "stdout"
        }
      ]
    },
    {
      "metadata": {},
      "cell_type": "markdown",
      "source": [
        "Observe how the logic to compute Fibonacci numbers remained the same, while the loop around this logic changed from `for` to `while` depending on the task.\n",
        "\n",
        "Now let us build on this code to solve more difficult problem!"
      ]
    },
    {
      "metadata": {},
      "cell_type": "markdown",
      "source": [
        "## Exercise: Project Euler Problem 2\n",
        "\n",
        "Those who want to learn programming need to practice solving many problems, starting from simple ones, and going towards more and more difficult ones. There is a project called **[Project Euler](http://projecteuler.net)** that contains a lot of problems you can practice solving. Let us consider one of those problems, [problem \\#2](https://projecteuler.net/problem=2):\n",
        "\n",
        "> *By considering the terms in the Fibonacci sequence whose values do not exceed four million, find the sum of the even-valued terms.*\n",
        "\n",
        "Now that you know how to compute numbers in Fibonacci sequence, please solve this problem before proceeding with the next unit."
      ]
    },
    {
      "metadata": {
        "trusted": true
      },
      "cell_type": "code",
      "source": [],
      "execution_count": 2,
      "outputs": []
    },
    {
      "cell_type": "code",
      "execution_count": null,
      "metadata": {},
      "outputs": [],
      "source": []
    }
  ],
  "metadata": {
    "kernelspec": {
      "name": "python37364bit6a29fc4a18164452b4e57b09a0c467e1",
      "display_name": "Python 3.7.3 64-bit",
      "language": "python"
    },
    "language_info": {
      "mimetype": "text/x-python",
      "nbconvert_exporter": "python",
      "name": "python",
      "pygments_lexer": "ipython3",
      "version": "3.7.3-final",
      "file_extension": ".py",
      "codemirror_mode": {
        "version": 3,
        "name": "ipython"
      }
    }
  },
  "nbformat": 4,
  "nbformat_minor": 2
}