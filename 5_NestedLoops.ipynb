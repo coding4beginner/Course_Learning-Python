{
  "cells": [
    {
      "metadata": {
        "collapsed": true
      },
      "cell_type": "markdown",
      "source": [
        "# Introduction to Programming with Python\n",
        "\n",
        "# Unit 5: Nested Loops\n",
        "\n",
        "Let us start with revisiting the exercise from the last unit. We needed to:\n",
        "\n",
        "1. Write a function `fact` that will calculate a factorial $n!=1\\cdot2\\cdot\\dots\\cdot n$\n",
        "2. Print a table of factorials from 1 to 7\n",
        "\n",
        "Let's start with a function:"
      ]
    },
    {
      "metadata": {
        "trusted": true
      },
      "cell_type": "code",
      "source": [
        "def fact(n):\n",
        "    acc = 1\n",
        "    for i in range(2,n+1):\n",
        "        acc = acc*i\n",
        "    return acc\n",
        "\n",
        "fact(7)"
      ],
      "execution_count": 2,
      "outputs": [
        {
          "output_type": "execute_result",
          "execution_count": 2,
          "data": {
            "text/plain": "5040"
          },
          "metadata": {}
        }
      ]
    },
    {
      "metadata": {},
      "cell_type": "markdown",
      "source": [
        "Here we are using a special technique: we introduce a variable called **accumulator**, which initially takes the value 1, and then it is multiplied in turn by 2, 3, and so on, up to $n$. It happens inside a loop. When the loop is done - we return the value of accumulator, which is equal to the factorial.\n",
        "\n",
        "The number which changes from 2 to $n$ inside a loop is called a **loop counter**. It is the variable that is used in the `for` expression, when we are saying `for i in ...`. Very often programmers call those variables `i`, `j`, `k` and so on, but it is just a tradition. Most probably, it is because `i` stands for **index**, or for **integer** (and loop counters are often integers).\n",
        "\n",
        "An important thing to note here is that in our case we need the value of loop counter to change from 2 to $n$. If we write for loop in this way:\n",
        "\n",
        "```python\n",
        "for i in range(n):\n",
        "    ...\n",
        "```\n",
        "then `i` will change from 0 to $n-1$, and the loop will repeat $n$ times. In our case, we want the values of `i` to start at 2, and end with the value $n$ inclusive, so we need to write a loop like this:\n",
        "\n",
        "```python\n",
        "for i in range(2,n+1):\n",
        "    ...\n",
        "```\n",
        "\n",
        "Important things to remember:\n",
        "\n",
        "* First argument of `range` specifies the starting value of the counter. If the argument is missing - it defaults to 0\n",
        "* Second argument of `range` specifies when we need to end the loop, and loop is over just before the counter reaches specified value. So it is essentially the last counter value plus 1\n",
        "\n",
        "Now, to print the table of factorial values, we use another loop:"
      ]
    },
    {
      "metadata": {
        "trusted": true
      },
      "cell_type": "code",
      "source": [
        "for i in range(1,8):\n",
        "    print(f'{i}! = {fact(i)}')"
      ],
      "execution_count": 5,
      "outputs": [
        {
          "output_type": "stream",
          "text": "1! = 1\n2! = 2\n3! = 6\n4! = 24\n5! = 120\n6! = 720\n7! = 5040\n",
          "name": "stdout"
        }
      ]
    },
    {
      "metadata": {},
      "cell_type": "markdown",
      "source": [
        "Notice how elegantly we use the string interpolation here, putting the expression `fact(i)` right inside the curly braces inside the string. We do not even need to use an additional variable here!"
      ]
    },
    {
      "metadata": {},
      "cell_type": "markdown",
      "source": [
        "## Nested Loops\n",
        "\n",
        "In our case, to print the table we used a loop from 1 to 7, and inside it to calculate the factorial another loop was used inside the function `fact`. If we were to write everything inside one big piece of code, we would write something like this:"
      ]
    },
    {
      "metadata": {
        "trusted": true
      },
      "cell_type": "code",
      "source": [
        "for i in range(1,8):\n",
        "    acc = 1\n",
        "    for j in range(2,i+1):\n",
        "        acc *= j\n",
        "    print(f'{i}! = {acc}')"
      ],
      "execution_count": 7,
      "outputs": [
        {
          "output_type": "stream",
          "text": "1! = 1\n2! = 2\n3! = 6\n4! = 24\n5! = 120\n6! = 720\n7! = 5040\n",
          "name": "stdout"
        }
      ]
    },
    {
      "metadata": {},
      "cell_type": "markdown",
      "source": [
        "When we have a loop inside another loop, we call it **nested loops**. Two important things are worth noticing here:\n",
        "\n",
        "* We need to use different names to name counter variables in nested loops. In our case, we use `i` as the counter of **outer loop**, and `j` as counter of **inner loop**.\n",
        "* The counter of outer loop can be used inside the range expression in the inner loop.\n",
        "\n",
        "We also introduce another operation here, `*=`, which is very useful whenever we are dealing with an accumulator. The expression `acc *= j` in our program is equivalent to `acc = acc * j`, but it is shorter, and is still quite clear in terms of meaning."
      ]
    },
    {
      "metadata": {},
      "cell_type": "markdown",
      "source": [
        "## Drawing a Rectangular City\n",
        "\n",
        "In the previous unit, we have learnt how to draw a streen of several houses. Now it's time to use the notion of nested loops to draw a rectangular city with a number of streets! What we need to keep in mind is that after drawing one street we need to move the turtle back to the beginning of a street, and down. We will also define the configuration of a city (number of rows and columns) in variables in our code - it is always a good idea to do so, to make code more customizable."
      ]
    },
    {
      "metadata": {
        "trusted": true
      },
      "cell_type": "code",
      "source": [
        "import jturtle as turtle"
      ],
      "execution_count": 1,
      "outputs": []
    },
    {
      "metadata": {
        "trusted": true
      },
      "cell_type": "code",
      "source": [
        "rows = 5 # number of rows (streets)\n",
        "cols = 5 # number of columns (houses in a street)\n",
        "sep = 5 # separation between houses\n",
        "w = 10 # house size\n",
        "\n",
        "from pycourse import house, square\n",
        "        \n",
        "for _ in range(rows):\n",
        "    # draw one street\n",
        "    for _ in range(cols):\n",
        "        house(w) # draw a house\n",
        "        # move turtle to the next house\n",
        "        turtle.penup()\n",
        "        turtle.right(90)\n",
        "        turtle.forward(w+sep)\n",
        "        turtle.left(90)\n",
        "        turtle.pendown()\n",
        "    # move turtle to the beginning of a street\n",
        "    turtle.left(90)\n",
        "    turtle.penup()\n",
        "    turtle.forward(cols*(w+sep)) # width of the whole street\n",
        "    turtle.right(90)\n",
        "    turtle.backward(2*w+sep)\n",
        "    turtle.pendown()\n",
        "        \n",
        "turtle.done()"
      ],
      "execution_count": 2,
      "outputs": [
        {
          "output_type": "display_data",
          "data": {
            "image/png": "[encoded data removed]",
            "text/plain": "<Figure size 432x288 with 1 Axes>"
          },
          "metadata": {
            "needs_background": "light"
          }
        }
      ]
    },
    {
      "metadata": {},
      "cell_type": "markdown",
      "source": [
        "Please note that we are using comments `#` quite extensively, to help you understand what goes on inside the code. Comments help other people as well as yourself after few weeks to understand the code.\n",
        "\n",
        "Another useful trick that we are using here is called **anonymous variable** `_`. If we do not care about the value of a loop counter, we can use underscore instead of a variable name, which means *we do not care about the value*. It help people who read the code to understant that variable value is not important, and also saves you the effort of having to come up with new loop counter name each time inside nested loops."
      ]
    },
    {
      "metadata": {},
      "cell_type": "markdown",
      "source": [
        "## Nested Loops vs. One Loop\n",
        "\n",
        "It is possible to rewrite the same logic using one big loop instead of two nested loops. In our case, whenever we encounter a street end, we need to return the turtle to the beginning of the street and move it down. Suppose the variable `i` denotes the loop counter, i.e. house number, in which case the end of the street is encountered when this number is divisible by `cols`, i.e. the remainder of `i` divided by `cols` is 0. "
      ]
    },
    {
      "metadata": {
        "trusted": true
      },
      "cell_type": "code",
      "source": [
        "for i in range(1,rows*cols+1):\n",
        "    house(w) # draw a house\n",
        "    # move turtle to the next house\n",
        "    turtle.penup()\n",
        "    turtle.right(90)\n",
        "    turtle.forward(w+sep)\n",
        "    turtle.left(90)\n",
        "    turtle.pendown()\n",
        "    if i%cols == 0: # end-of-street encountered\n",
        "        # move turtle to the beginning of a street\n",
        "        turtle.left(90)\n",
        "        turtle.penup()\n",
        "        turtle.forward(cols*(w+sep)) # width of the whole street\n",
        "        turtle.right(90)\n",
        "        turtle.backward(2*w+sep)\n",
        "        turtle.pendown()\n",
        "        \n",
        "turtle.done()"
      ],
      "execution_count": 25,
      "outputs": [
        {
          "output_type": "display_data",
          "data": {
            "image/png": "[encoded data removed]",
            "text/plain": "<Figure size 432x288 with 1 Axes>"
          },
          "metadata": {
            "needs_background": "light"
          }
        }
      ]
    },
    {
      "metadata": {},
      "cell_type": "markdown",
      "source": [
        "This example shows us that it is always possible to write the same program in many different ways. And there are often different criteria to determine which way is better:\n",
        "\n",
        "* **code clarity** - it is always better to have a clear and readable code, because it is easier to write and maintain\n",
        "* **program efficiency** - sometimes simpler or shorter code does not mean better performance, so we need to take performance considerations into account\n",
        "\n",
        "Ofter we end up having to compromise between simplicity and performance. "
      ]
    },
    {
      "metadata": {},
      "cell_type": "markdown",
      "source": [
        "## Sierpiński Triangle\n",
        "\n",
        "Now that we know loops, let me show you a very beautiful example of how a simple computer program can generate infinite complexity and beauty. We will learn how to draw so-called [**Sierpiński Triangle**](https://en.wikipedia.org/wiki/Sierpiński_triangle) - a fractal structure that looks like this:\n",
        "\n",
        "<img src=\"images/Sierpinski_triangle.png\" width=\"30%\"/>\n",
        "\n",
        "([photo](https://commons.wikimedia.org/w/index.php?curid=8862246) from [Wikipedia](https://en.wikipedia.org/wiki/Sierpiński_triangle) by Beojan Stanislaus, CC BY-SA 3.0)\n",
        "\n",
        "This figure is surprisingly easy to draw! We need to implement the following algorithm:\n",
        "\n",
        "1. Select three vertices of a triangle, $(x_1,y_1)$, $(x_2,y_2)$ and $(x_3,y_3)$.\n",
        "2. Set coordinates of current point $(x,y)$ to some initial value.\n",
        "3. Randomly pick one of the vertices $i\\in\\{1,2,3\\}$\n",
        "4. Calculate new point coordinates as *midpoint* between current point and selected vertice: \n",
        "$$x \\leftarrow \\frac{x_i+x}{2}$$\n",
        "$$y \\leftarrow \\frac{y_i+x}{2}$$\n",
        "5. Draw a point at coordinates $(x,y)$\n",
        "6. Repeat from step 3\n",
        "\n",
        "This process sounds like a loop than never ends, or so-called **infinite loop**. In practice, we definitely want our program to stop at some point, so we just program sufficiently large for-loop.\n",
        "\n",
        "To begin with, let's define the list of triangle vertices as a list of coordinate pairs. We have not discussed yet what lists are, but for now please consider it just a collection of pairs, from which we would be able to pick one pair using `random.choice` function which we have seen before:"
      ]
    },
    {
      "metadata": {
        "trusted": true
      },
      "cell_type": "code",
      "source": [
        "vertices = [(0,00),(100,0),(50,100)]"
      ],
      "execution_count": 16,
      "outputs": []
    },
    {
      "metadata": {},
      "cell_type": "markdown",
      "source": [
        "Now let's program the main loop. Here we use coordinate-based graphics and `turtle.point` to draw the dot, and to make the dot smaller we specify additional parameter, `pointstyle`. Please note that this loop can take a moment to execute!"
      ]
    },
    {
      "metadata": {
        "trusted": true
      },
      "cell_type": "code",
      "source": [
        "import random\n",
        "\n",
        "x,y = 150,150\n",
        "for _ in range(3000):\n",
        "    vx, vy = random.choice(vertices)\n",
        "    x = (x+vx)/2\n",
        "    y = (y+vy)/2\n",
        "    turtle.point((x,y),pointstyle=',')\n",
        "turtle.done()"
      ],
      "execution_count": 17,
      "outputs": [
        {
          "output_type": "display_data",
          "data": {
            "image/png": "[encoded data removed]",
            "text/plain": "<Figure size 432x288 with 1 Axes>"
          },
          "metadata": {
            "needs_background": "light"
          }
        }
      ]
    },
    {
      "metadata": {},
      "cell_type": "markdown",
      "source": [
        "Isn't this picture beautiful?! I find it very fascinating that we can achieve potentially infinite complexity with quite a short code.\n",
        "\n",
        "While the figure is beautiful, our code can still be improved. In our code we think in terms of individual coordinates $x$ and $y$, while we can switch to higher level thinking, and keep in mind the points, and not coordinates. \n",
        "\n",
        "To do that, let's first define a function `midpoint` to calculate the position of middle point between points `a` and `b`. Let me remind you that if `a` denotes a pair of point coordinates, then `a[0]` denotes the first coordinate ($x$), and `a[1]` -- second coordinate ($y$).\n",
        "\n",
        "Using this function, the code becomes a lot cleaner:"
      ]
    },
    {
      "metadata": {
        "trusted": true
      },
      "cell_type": "code",
      "source": [
        "def midpoint(a,b):\n",
        "    return ((a[0]+b[0])/2,(a[1]+b[1])/2)\n",
        "\n",
        "p = 150,150\n",
        "for _ in range(3000):\n",
        "    v = random.choice(vertices)\n",
        "    p = midpoint(p,v)\n",
        "    turtle.point(p, pointstyle=',')\n",
        "turtle.done()"
      ],
      "execution_count": 19,
      "outputs": [
        {
          "output_type": "display_data",
          "data": {
            "image/png": "[encoded data removed]",
            "text/plain": "<Figure size 432x288 with 1 Axes>"
          },
          "metadata": {
            "needs_background": "light"
          }
        }
      ]
    },
    {
      "metadata": {},
      "cell_type": "markdown",
      "source": [
        "## Exercise: Polygons\n",
        "\n",
        "Coming back to our original topic of nested loops, please do the following exercise:\n",
        "1. Define a function `poly` that will draw a polygon with a given number of sides (and a given size). You most probably want to use turtle graphics for this!\n",
        "2. Draw three polygons with number of sides of 3 (triangle), 5 and 7. You should end up with a picture like this:\n",
        "\n",
        "![Polygons](images/PolygonTask.PNG)"
      ]
    },
    {
      "metadata": {
        "trusted": true
      },
      "cell_type": "code",
      "source": [],
      "execution_count": null,
      "outputs": []
    }
  ],
  "metadata": {
    "kernelspec": {
      "name": "python36",
      "display_name": "Python 3.6",
      "language": "python"
    },
    "language_info": {
      "mimetype": "text/x-python",
      "nbconvert_exporter": "python",
      "name": "python",
      "pygments_lexer": "ipython3",
      "version": "3.6.6",
      "file_extension": ".py",
      "codemirror_mode": {
        "version": 3,
        "name": "ipython"
      }
    }
  },
  "nbformat": 4,
  "nbformat_minor": 2
}